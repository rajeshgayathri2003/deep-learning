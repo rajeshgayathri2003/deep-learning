{
  "nbformat": 4,
  "nbformat_minor": 0,
  "metadata": {
    "colab": {
      "provenance": [],
      "authorship_tag": "ABX9TyOAG6LMyKT22+Gi7La/g0yg",
      "include_colab_link": true
    },
    "kernelspec": {
      "name": "python3",
      "display_name": "Python 3"
    },
    "language_info": {
      "name": "python"
    }
  },
  "cells": [
    {
      "cell_type": "markdown",
      "metadata": {
        "id": "view-in-github",
        "colab_type": "text"
      },
      "source": [
        "<a href=\"https://colab.research.google.com/github/rajeshgayathri2003/deep-learning/blob/main/dl_1.ipynb\" target=\"_parent\"><img src=\"https://colab.research.google.com/assets/colab-badge.svg\" alt=\"Open In Colab\"/></a>"
      ]
    },
    {
      "cell_type": "code",
      "execution_count": null,
      "metadata": {
        "id": "DcEYUToYkCCd"
      },
      "outputs": [],
      "source": [
        "import torch\n",
        "import torchvision\n",
        "import torch.nn as nn\n",
        "import torch.optim"
      ]
    },
    {
      "cell_type": "code",
      "source": [
        "from PIL import Image"
      ],
      "metadata": {
        "id": "iMpMz3eQne3M"
      },
      "execution_count": null,
      "outputs": []
    },
    {
      "cell_type": "code",
      "source": [],
      "metadata": {
        "id": "g8eQ0zu4oKLQ"
      },
      "execution_count": null,
      "outputs": []
    },
    {
      "cell_type": "code",
      "source": [
        "def architecture_CNN(image_input):\n",
        "  def __init__(self):\n",
        "    self.image_input = Image.open(image_input)\n",
        "    height = self.image_input.height\n",
        "    width = self.image_input.width\n",
        "    self.height = height\n",
        "    self.width = width\n",
        "    mode = self.image_input.mode\n",
        "    if mode == 'RGB':\n",
        "      self.channels = 3\n",
        "\n",
        "    self.relu = nn.ReLU(inplace=False)\n",
        "    self.softmax = nn.Softmax()\n",
        "    self.flatten = nn.Flatten()\n",
        "    self.fc_1 = nn.Linear(512*16*16, 1000)\n",
        "    self.fc_2 = nn.Linear(1000, 10)\n",
        "    self.conv_1 = nn.Conv2d(in_channels=3, out_channels=64, kernel_size=3, stride=1, padding=0, bias=False)\n",
        "    self.conv_2 = nn.Conv2d(in_channels=64, out_channels=128, kernel_size=3, stride=1, padding=0, bias=False)\n",
        "    self.conv_3 = nn.Conv2d(in_channels=128, out_channels=256, kernel_size=3, stride=1, padding=0, bias=False)\n",
        "    self.conv_4 = nn.Conv2d(in_channels=256, out_channels=512, kernel_size=3, stride=1, padding=0, bias=False)\n",
        "    self.conv_5 = nn.Conv2d(in_channels=512, out_channels=512, kernel_size=3, stride=1, padding=0, bias=False)\n",
        "    self.maxpool = nn.MaxPool2d(kernel_size, stride)\n",
        "\n",
        "  def forward(self, x):\n",
        "    x = self.conv_1(x)\n",
        "    x = self.relu(x)\n",
        "    x = self.maxpool(x)\n",
        "\n",
        "    x = self.conv_2(x)\n",
        "    x = self.relu(x)\n",
        "    x = self.maxpool(x)\n",
        "\n",
        "    x = self.conv_3(x)\n",
        "    x = self.relu(x)\n",
        "    x = self.maxpool(x)\n",
        "\n",
        "    x = self.conv_4(x)\n",
        "    x = self.relu(x)\n",
        "    x = self.maxpool(x)\n",
        "\n",
        "    x = self.conv_5(x)\n",
        "    x = self.relu(x)\n",
        "    x = self.maxpool(x)\n",
        "\n",
        "    x = self.flatten(x)\n",
        "    x = self.fc_1(x)\n",
        "    x = self.relu(x)\n",
        "    x = self.fc_2(x)\n",
        "    x = self.softmax(x)\n",
        "    return x\n",
        "\n",
        "  def back_prop(self, pred, labels):\n",
        "    loss = nn.CrossEntropyLoss(pred, labels)\n",
        "    loss.backward()\n",
        "    return loss\n",
        "\n",
        "\n",
        "\n",
        "\n",
        "\n",
        "\n",
        "\n",
        "\n",
        "\n"
      ],
      "metadata": {
        "id": "-kEqKE2zsTbM"
      },
      "execution_count": null,
      "outputs": []
    }
  ]
}