{
  "nbformat": 4,
  "nbformat_minor": 0,
  "metadata": {
    "colab": {
      "provenance": [],
      "authorship_tag": "ABX9TyOdkZNHIfACWbSSe2froFOn",
      "include_colab_link": true
    },
    "kernelspec": {
      "name": "python3",
      "display_name": "Python 3"
    },
    "language_info": {
      "name": "python"
    }
  },
  "cells": [
    {
      "cell_type": "markdown",
      "metadata": {
        "id": "view-in-github",
        "colab_type": "text"
      },
      "source": [
        "<a href=\"https://colab.research.google.com/github/rajeshgayathri2003/deep-learning/blob/main/dl_1.ipynb\" target=\"_parent\"><img src=\"https://colab.research.google.com/assets/colab-badge.svg\" alt=\"Open In Colab\"/></a>"
      ]
    },
    {
      "cell_type": "code",
      "execution_count": null,
      "metadata": {
        "id": "DcEYUToYkCCd"
      },
      "outputs": [],
      "source": [
        "import torch\n",
        "import torchvision\n",
        "import torch.nn as nn\n",
        "import torch.optim"
      ]
    },
    {
      "cell_type": "code",
      "source": [
        "from PIL import Image"
      ],
      "metadata": {
        "id": "iMpMz3eQne3M"
      },
      "execution_count": null,
      "outputs": []
    },
    {
      "cell_type": "code",
      "source": [
        "from torch.utils.data import DataLoader, Dataset"
      ],
      "metadata": {
        "id": "g8eQ0zu4oKLQ"
      },
      "execution_count": null,
      "outputs": []
    },
    {
      "cell_type": "code",
      "source": [
        "labels_map = {\n",
        "    0:\"Amphibia\",\n",
        "    1:\"Animalia\",\n",
        "    2:\"Arachnida\",\n",
        "    3:\"Aves\",\n",
        "    4:\"Fungi\",\n",
        "    5:\"Insecta\",\n",
        "    6:\"Mammalia\",\n",
        "    7:\"Mollusca\",\n",
        "    8:\"Plantae\",\n",
        "    9:\"Reptilia\"\n",
        "}"
      ],
      "metadata": {
        "id": "-iffdz_g5nJ_"
      },
      "execution_count": null,
      "outputs": []
    },
    {
      "cell_type": "code",
      "source": [
        "class"
      ],
      "metadata": {
        "id": "JprOU4vN76kx"
      },
      "execution_count": null,
      "outputs": []
    },
    {
      "cell_type": "code",
      "source": [
        "class architecture_CNN():\n",
        "  def __init__(self, image_input):\n",
        "    self.image_input = Image.open(image_input)\n",
        "    height = self.image_input.height\n",
        "    width = self.image_input.width\n",
        "    self.height = height\n",
        "    self.width = width\n",
        "    mode = self.image_input.mode\n",
        "    if mode == 'RGB':\n",
        "      self.channels = 3\n",
        "\n",
        "    self.relu = nn.ReLU(inplace=False)\n",
        "    self.softmax = nn.Softmax()\n",
        "    self.flatten = nn.Flatten()\n",
        "    self.fc_1 = nn.Linear(512*16*16, 1000)\n",
        "    self.fc_2 = nn.Linear(1000, 10)\n",
        "    self.conv_1 = nn.Conv2d(in_channels=3, out_channels=64, kernel_size=3, stride=1, padding=0, bias=False)\n",
        "    self.conv_2 = nn.Conv2d(in_channels=64, out_channels=128, kernel_size=3, stride=1, padding=0, bias=False)\n",
        "    self.conv_3 = nn.Conv2d(in_channels=128, out_channels=256, kernel_size=3, stride=1, padding=0, bias=False)\n",
        "    self.conv_4 = nn.Conv2d(in_channels=256, out_channels=512, kernel_size=3, stride=1, padding=0, bias=False)\n",
        "    self.conv_5 = nn.Conv2d(in_channels=512, out_channels=512, kernel_size=3, stride=1, padding=0, bias=False)\n",
        "    self.maxpool = nn.MaxPool2d(kernel_size=2, stride=1)\n",
        "\n",
        "  def forward(self, x):\n",
        "    x = self.conv_1(x)\n",
        "    x = self.relu(x)\n",
        "    x = self.maxpool(x)\n",
        "\n",
        "    x = self.conv_2(x)\n",
        "    x = self.relu(x)\n",
        "    x = self.maxpool(x)\n",
        "\n",
        "    x = self.conv_3(x)\n",
        "    x = self.relu(x)\n",
        "    x = self.maxpool(x)\n",
        "\n",
        "    x = self.conv_4(x)\n",
        "    x = self.relu(x)\n",
        "    x = self.maxpool(x)\n",
        "\n",
        "    x = self.conv_5(x)\n",
        "    x = self.relu(x)\n",
        "    x = self.maxpool(x)\n",
        "\n",
        "    x = self.flatten(x)\n",
        "    x = self.fc_1(x)\n",
        "    x = self.relu(x)\n",
        "    x = self.fc_2(x)\n",
        "    x = self.softmax(x)\n",
        "    return x\n",
        "\n",
        "  def back_prop(self, pred, labels):\n",
        "    loss = nn.CrossEntropyLoss(pred, labels)\n",
        "    loss.backward()\n",
        "    return loss\n",
        "\n",
        "  def initialise_weigths(self, m):\n",
        "    for m in self.modules():\n",
        "      if isinstance(m, nn.Conv2d):\n",
        "        torch.nn.init.xavier_uniform(m.weight)\n",
        "        if m.bias is not None:\n",
        "          m.bias.data.fill_(0.01)\n",
        "\n",
        "\n",
        "\n",
        "\n",
        "\n",
        "\n",
        "\n",
        "\n",
        "\n",
        "\n"
      ],
      "metadata": {
        "id": "-kEqKE2zsTbM"
      },
      "execution_count": null,
      "outputs": []
    }
  ]
}